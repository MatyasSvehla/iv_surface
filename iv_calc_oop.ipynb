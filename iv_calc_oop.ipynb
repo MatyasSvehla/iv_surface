{
 "cells": [
  {
   "cell_type": "code",
   "execution_count": 2,
   "metadata": {},
   "outputs": [],
   "source": [
    "from numpy import sqrt, exp, log, pi\n",
    "from scipy.stats import norm\n",
    "from mpl_toolkits.mplot3d import Axes3D\n",
    "import numpy as np\n",
    "import matplotlib.pyplot as plt\n",
    "import yfinance as yf\n",
    "import pandas as pd\n",
    "import datetime as dt\n",
    "from datetime import date,datetime,timedelta\n",
    "import warnings\n",
    "#from scipy.interpolate import griddata\n",
    "import plotly.graph_objects as go\n",
    "from arch import arch_model\n",
    "import nbformat\n",
    "from matplotlib.colors import Normalize\n",
    "%matplotlib inline\n",
    "import plotly.io as pio\n",
    "pio.renderers.default = \"notebook_connected\"\n",
    "warnings.filterwarnings(\"ignore\")"
   ]
  },
  {
   "cell_type": "markdown",
   "metadata": {},
   "source": [
    "#### Option pricing object"
   ]
  },
  {
   "cell_type": "code",
   "execution_count": 4,
   "metadata": {},
   "outputs": [],
   "source": [
    "class Option:\n",
    "    def __init__(self,sigma,S,K,r,t,option_type = \"c\"):\n",
    "        self.sigma = sigma\n",
    "        self.S = S\n",
    "        self.K = K\n",
    "        self.r = r\n",
    "        self.t = t\n",
    "        self.option_type = option_type\n",
    "    def _calc_d(self):\n",
    "        d1 = np.multiply(1. / self.sigma * np.divide(1., np.sqrt(self.t)),\\\n",
    "                        np.log(self.S/self.K) + (self.r + self.sigma**2 / 2.) * self.t)\n",
    "        d2 = d1 - self.sigma * np.sqrt(self.t)\n",
    "        return d1,d2\n",
    "    def option_price(self):\n",
    "        d1,d2 = self._calc_d()\n",
    "        if self.option_type == \"c\":\n",
    "            return (np.multiply(self.S, norm.cdf(d1)) - \\\n",
    "        np.multiply(norm.cdf(d2) * self.K, np.exp(-self.r * self.t)))\n",
    "        elif self.option_type == \"p\":\n",
    "            return (np.multiply(norm.cdf(-d2) * self.K, np.exp(-self.r * self.t)) - \\\n",
    "        np.multiply(self.S,norm.cdf(-d1)))\n",
    "        else:\n",
    "            raise ValueError(\"specify the option type, c for call, p for put!\")\n",
    "    def calculate_vega(self):\n",
    "        d1,d2 = self._calc_d()\n",
    "        return self.S * norm.pdf(d1) * np.sqrt(self.t)\n",
    "\n"
   ]
  },
  {
   "cell_type": "code",
   "execution_count": 19,
   "metadata": {},
   "outputs": [
    {
     "name": "stdout",
     "output_type": "stream",
     "text": [
      "theoretical option price is: 1.7189372043813407\n",
      "vega on the option is: 6.593792028727019\n"
     ]
    }
   ],
   "source": [
    "opt1 = Option(sigma=0.25,S=100,K=100,r=0.05,t=10/365)\n",
    "print(\"theoretical option price is:\",opt1.option_price())\n",
    "print(\"vega on the option is:\",opt1.calculate_vega())"
   ]
  },
  {
   "cell_type": "code",
   "execution_count": null,
   "metadata": {},
   "outputs": [],
   "source": [
    "class IV:\n",
    "    def __init__(self,ticker,option_type = \"call\",oi_lower_bound = 100):\n",
    "        self.ticker = ticker\n",
    "        self.option_type = option_type\n",
    "        self.lower_bound = oi_lower_bound\n",
    "    def \n",
    "    \n",
    "\n",
    "    "
   ]
  },
  {
   "cell_type": "code",
   "execution_count": null,
   "metadata": {},
   "outputs": [],
   "source": []
  }
 ],
 "metadata": {
  "kernelspec": {
   "display_name": ".iv_calc",
   "language": "python",
   "name": "python3"
  },
  "language_info": {
   "codemirror_mode": {
    "name": "ipython",
    "version": 3
   },
   "file_extension": ".py",
   "mimetype": "text/x-python",
   "name": "python",
   "nbconvert_exporter": "python",
   "pygments_lexer": "ipython3",
   "version": "3.13.1"
  }
 },
 "nbformat": 4,
 "nbformat_minor": 2
}
